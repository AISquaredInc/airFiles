{
 "cells": [
  {
   "cell_type": "markdown",
   "metadata": {},
   "source": [
    "# Training and Integrating an Image Classification Model\n",
    "\n",
    "In this notebook, we will show how to use the `mann` package to train a sparse TensorFlow model and then how to use the `aisquared` package to convert that model and package it into a `.air` file which can be dragged and dropped into the browser."
   ]
  },
  {
   "cell_type": "markdown",
   "metadata": {},
   "source": [
    "## Import packages and preprocess data"
   ]
  },
  {
   "cell_type": "code",
   "execution_count": 1,
   "metadata": {},
   "outputs": [
    {
     "name": "stderr",
     "output_type": "stream",
     "text": [
      "/Users/jwrenn4/miniforge3/lib/python3.9/site-packages/jax/_src/lib/__init__.py:33: UserWarning: JAX on Mac ARM machines is experimental and minimally tested. Please see https://github.com/google/jax/issues/5501 in the event of problems.\n",
      "  warnings.warn(\"JAX on Mac ARM machines is experimental and minimally tested. \"\n"
     ]
    }
   ],
   "source": [
    "# Now that the required packages have been installed, let's import all the required packages\n",
    "import tensorflow as tf\n",
    "import aisquared\n",
    "import mann"
   ]
  },
  {
   "cell_type": "code",
   "execution_count": 2,
   "metadata": {},
   "outputs": [],
   "source": [
    "# Let's load and preprocess the data\n",
    "(x_train, y_train), (x_test, y_test) = tf.keras.datasets.cifar10.load_data()\n",
    "x_train = x_train/255\n",
    "x_test = x_test/255\n",
    "\n",
    "# Configure the label map\n",
    "label_map = [\n",
    "    'airplane',\n",
    "    'automobile',\n",
    "    'bird',\n",
    "    'cat',\n",
    "    'deer',\n",
    "    'dog',\n",
    "    'frog',\n",
    "    'horse',\n",
    "    'ship',\n",
    "    'truck'\n",
    "]"
   ]
  },
  {
   "cell_type": "markdown",
   "metadata": {},
   "source": [
    "## Create the model"
   ]
  },
  {
   "cell_type": "code",
   "execution_count": 3,
   "metadata": {},
   "outputs": [
    {
     "name": "stdout",
     "output_type": "stream",
     "text": [
      "Metal device set to: Apple M1\n",
      "\n",
      "systemMemory: 16.00 GB\n",
      "maxCacheSize: 5.33 GB\n",
      "\n"
     ]
    }
   ],
   "source": [
    "input_layer = tf.keras.layers.Input(x_train.shape[1:])\n",
    "x = mann.layers.MaskedConv2D(\n",
    "    32,\n",
    "    activation = 'relu'\n",
    ")(input_layer)\n",
    "x = mann.layers.MaskedConv2D(\n",
    "    32,\n",
    "    activation = 'relu'\n",
    ")(x)\n",
    "x = tf.keras.layers.MaxPool2D()(x)\n",
    "x = tf.keras.layers.Dropout(0.2)(x)\n",
    "x = mann.layers.MaskedConv2D(\n",
    "    64,\n",
    "    activation = 'relu'\n",
    ")(x)\n",
    "x = mann.layers.MaskedConv2D(\n",
    "    64,\n",
    "    activation = 'relu'\n",
    ")(x)\n",
    "x = tf.keras.layers.MaxPool2D()(x)\n",
    "x = tf.keras.layers.Dropout(0.2)(x)\n",
    "x = mann.layers.MaskedConv2D(\n",
    "    128,\n",
    "    activation = 'relu'\n",
    ")(x)\n",
    "x = mann.layers.MaskedConv2D(\n",
    "    128,\n",
    "    activation = 'relu'\n",
    ")(x)\n",
    "x = tf.keras.layers.MaxPool2D()(x)\n",
    "x = tf.keras.layers.Dropout(0.2)(x)\n",
    "x = tf.keras.layers.Flatten()(x)\n",
    "x = mann.layers.MaskedDense(512, activation = 'relu')(x)\n",
    "x = mann.layers.MaskedDense(512, activation = 'relu')(x)\n",
    "x = mann.layers.MaskedDense(512, activation = 'relu')(x)\n",
    "output_layer = mann.layers.MaskedDense(10, activation = 'softmax')(x)\n",
    "\n",
    "model = tf.keras.models.Model(input_layer, output_layer)\n",
    "model.compile(\n",
    "    loss = 'sparse_categorical_crossentropy',\n",
    "    optimizer = 'adam',\n",
    "    metrics = ['accuracy']\n",
    ")"
   ]
  },
  {
   "cell_type": "code",
   "execution_count": 4,
   "metadata": {},
   "outputs": [
    {
     "name": "stderr",
     "output_type": "stream",
     "text": [
      "2022-04-01 09:28:09.919934: W tensorflow/core/platform/profile_utils/cpu_utils.cc:128] Failed to get CPU frequency: 0 Hz\n"
     ]
    },
    {
     "name": "stdout",
     "output_type": "stream",
     "text": [
      "Epoch 1/100\n",
      "79/79 [==============================] - ETA: 0s - loss: 1.9929 - accuracy: 0.2595Performance measure set to val_accuracy\n",
      "Model performance has not reached pruning threshold for 1 epoch(s)\n",
      "79/79 [==============================] - 13s 147ms/step - loss: 1.9929 - accuracy: 0.2595 - val_loss: 1.7790 - val_accuracy: 0.3466\n",
      "Epoch 2/100\n",
      "78/79 [============================>.] - ETA: 0s - loss: 1.6121 - accuracy: 0.4049Model performance has not reached pruning threshold for 2 epoch(s)\n",
      "79/79 [==============================] - 11s 144ms/step - loss: 1.6119 - accuracy: 0.4049 - val_loss: 1.6221 - val_accuracy: 0.4095\n",
      "Epoch 3/100\n",
      "78/79 [============================>.] - ETA: 0s - loss: 1.4571 - accuracy: 0.4668Model performance has not reached pruning threshold for 3 epoch(s)\n",
      "79/79 [==============================] - 11s 141ms/step - loss: 1.4569 - accuracy: 0.4668 - val_loss: 1.3966 - val_accuracy: 0.4929\n",
      "Epoch 4/100\n",
      "78/79 [============================>.] - ETA: 0s - loss: 1.3122 - accuracy: 0.5245Model performance has not reached pruning threshold for 4 epoch(s)\n",
      "79/79 [==============================] - 12s 146ms/step - loss: 1.3121 - accuracy: 0.5245 - val_loss: 1.3120 - val_accuracy: 0.5232\n",
      "Epoch 5/100\n",
      "78/79 [============================>.] - ETA: 0s - loss: 1.2046 - accuracy: 0.5659Model performance has not reached pruning threshold for 5 epoch(s)\n",
      "79/79 [==============================] - 11s 141ms/step - loss: 1.2047 - accuracy: 0.5659 - val_loss: 1.1053 - val_accuracy: 0.5973\n",
      "Epoch 6/100\n",
      "78/79 [============================>.] - ETA: 0s - loss: 1.1004 - accuracy: 0.6059Model performance has not reached pruning threshold for 6 epoch(s)\n",
      "79/79 [==============================] - 11s 144ms/step - loss: 1.1006 - accuracy: 0.6058 - val_loss: 1.0525 - val_accuracy: 0.6307\n",
      "Epoch 7/100\n",
      "78/79 [============================>.] - ETA: 0s - loss: 1.0119 - accuracy: 0.6385Model performance has not reached pruning threshold for 7 epoch(s)\n",
      "79/79 [==============================] - 11s 139ms/step - loss: 1.0119 - accuracy: 0.6384 - val_loss: 1.0156 - val_accuracy: 0.6399\n",
      "Epoch 8/100\n",
      "78/79 [============================>.] - ETA: 0s - loss: 0.9287 - accuracy: 0.6696Model performance reached 0.66, sparsifying to 45\n",
      "79/79 [==============================] - 11s 141ms/step - loss: 0.9291 - accuracy: 0.6696 - val_loss: 0.9748 - val_accuracy: 0.6554\n",
      "Epoch 9/100\n",
      "78/79 [============================>.] - ETA: 0s - loss: 0.8791 - accuracy: 0.6873Model performance reached 0.66, sparsifying to 50\n",
      "79/79 [==============================] - 11s 141ms/step - loss: 0.8791 - accuracy: 0.6874 - val_loss: 0.9563 - val_accuracy: 0.6609\n",
      "Epoch 10/100\n",
      "78/79 [============================>.] - ETA: 0s - loss: 0.8174 - accuracy: 0.7105Model performance reached 0.71, sparsifying to 55\n",
      "79/79 [==============================] - 11s 142ms/step - loss: 0.8173 - accuracy: 0.7106 - val_loss: 0.8336 - val_accuracy: 0.7106\n",
      "Epoch 11/100\n",
      "78/79 [============================>.] - ETA: 0s - loss: 0.7700 - accuracy: 0.7271Model performance reached 0.72, sparsifying to 60\n",
      "79/79 [==============================] - 11s 142ms/step - loss: 0.7701 - accuracy: 0.7271 - val_loss: 0.8145 - val_accuracy: 0.7166\n",
      "Epoch 12/100\n",
      "78/79 [============================>.] - ETA: 0s - loss: 0.7139 - accuracy: 0.7467Model performance reached 0.73, sparsifying to 65\n",
      "79/79 [==============================] - 11s 142ms/step - loss: 0.7139 - accuracy: 0.7466 - val_loss: 0.7870 - val_accuracy: 0.7283\n",
      "Epoch 13/100\n",
      "79/79 [==============================] - ETA: 0s - loss: 0.6864 - accuracy: 0.7562Model performance reached 0.74, sparsifying to 70\n",
      "79/79 [==============================] - 11s 142ms/step - loss: 0.6864 - accuracy: 0.7562 - val_loss: 0.7586 - val_accuracy: 0.7444\n",
      "Epoch 14/100\n",
      "78/79 [============================>.] - ETA: 0s - loss: 0.6938 - accuracy: 0.7543Model performance reached 0.74, sparsifying to 75\n",
      "79/79 [==============================] - 11s 143ms/step - loss: 0.6939 - accuracy: 0.7543 - val_loss: 0.7538 - val_accuracy: 0.7436\n",
      "Epoch 15/100\n",
      "78/79 [============================>.] - ETA: 0s - loss: 0.6775 - accuracy: 0.7604Model performance reached 0.75, sparsifying to 80\n",
      "79/79 [==============================] - 11s 142ms/step - loss: 0.6775 - accuracy: 0.7604 - val_loss: 0.7431 - val_accuracy: 0.7471\n",
      "Epoch 16/100\n",
      "78/79 [============================>.] - ETA: 0s - loss: 0.7033 - accuracy: 0.7506Model cannot be sparsified further due to max sparsification parameter\n",
      "79/79 [==============================] - 11s 141ms/step - loss: 0.7033 - accuracy: 0.7505 - val_loss: 0.7750 - val_accuracy: 0.7422\n",
      "Epoch 17/100\n",
      "79/79 [==============================] - ETA: 0s - loss: 0.5852 - accuracy: 0.7938Early stopping performance has not met threshold for 1 epochs\n",
      "79/79 [==============================] - 11s 146ms/step - loss: 0.5852 - accuracy: 0.7938 - val_loss: 0.7402 - val_accuracy: 0.7485\n",
      "Epoch 18/100\n",
      "78/79 [============================>.] - ETA: 0s - loss: 0.5577 - accuracy: 0.8033Model performance improved to 0.75\n",
      "79/79 [==============================] - 11s 140ms/step - loss: 0.5577 - accuracy: 0.8033 - val_loss: 0.7185 - val_accuracy: 0.7542\n",
      "Epoch 19/100\n",
      "78/79 [============================>.] - ETA: 0s - loss: 0.5333 - accuracy: 0.8103Early stopping performance has not met threshold for 1 epochs\n",
      "79/79 [==============================] - 11s 140ms/step - loss: 0.5333 - accuracy: 0.8103 - val_loss: 0.7306 - val_accuracy: 0.7530\n",
      "Epoch 20/100\n",
      "78/79 [============================>.] - ETA: 0s - loss: 0.5180 - accuracy: 0.8165Early stopping performance has not met threshold for 2 epochs\n",
      "79/79 [==============================] - 11s 139ms/step - loss: 0.5179 - accuracy: 0.8165 - val_loss: 0.7269 - val_accuracy: 0.7555\n",
      "Epoch 21/100\n",
      "78/79 [============================>.] - ETA: 0s - loss: 0.4964 - accuracy: 0.8236Early stopping performance has not met threshold for 3 epochs\n",
      "79/79 [==============================] - 11s 140ms/step - loss: 0.4961 - accuracy: 0.8238 - val_loss: 0.7421 - val_accuracy: 0.7549\n",
      "Epoch 22/100\n",
      "79/79 [==============================] - ETA: 0s - loss: 0.4769 - accuracy: 0.8301Early stopping performance has not met threshold for 4 epochs\n",
      "79/79 [==============================] - 11s 140ms/step - loss: 0.4769 - accuracy: 0.8301 - val_loss: 0.7771 - val_accuracy: 0.7496\n",
      "Epoch 23/100\n",
      "78/79 [============================>.] - ETA: 0s - loss: 0.4653 - accuracy: 0.8344Early stopping performance has not met threshold for 5 epochs\n",
      "Model performance has not met early stopping criteria. Stopping training\n",
      "79/79 [==============================] - 11s 139ms/step - loss: 0.4652 - accuracy: 0.8345 - val_loss: 0.7350 - val_accuracy: 0.7597\n",
      "Model: \"model\"\n",
      "_________________________________________________________________\n",
      " Layer (type)                Output Shape              Param #   \n",
      "=================================================================\n",
      " input_1 (InputLayer)        [(None, 32, 32, 3)]       0         \n",
      "                                                                 \n",
      " masked_conv2d (Conv2D)      (None, 32, 32, 32)        896       \n",
      "                                                                 \n",
      " masked_conv2d_1 (Conv2D)    (None, 32, 32, 32)        9248      \n",
      "                                                                 \n",
      " max_pooling2d (MaxPooling2D  (None, 16, 16, 32)       0         \n",
      " )                                                               \n",
      "                                                                 \n",
      " dropout (Dropout)           (None, 16, 16, 32)        0         \n",
      "                                                                 \n",
      " masked_conv2d_2 (Conv2D)    (None, 16, 16, 64)        18496     \n",
      "                                                                 \n",
      " masked_conv2d_3 (Conv2D)    (None, 16, 16, 64)        36928     \n",
      "                                                                 \n",
      " max_pooling2d_1 (MaxPooling  (None, 8, 8, 64)         0         \n",
      " 2D)                                                             \n",
      "                                                                 \n",
      " dropout_1 (Dropout)         (None, 8, 8, 64)          0         \n",
      "                                                                 \n",
      " masked_conv2d_4 (Conv2D)    (None, 8, 8, 128)         73856     \n",
      "                                                                 \n",
      " masked_conv2d_5 (Conv2D)    (None, 8, 8, 128)         147584    \n",
      "                                                                 \n",
      " max_pooling2d_2 (MaxPooling  (None, 4, 4, 128)        0         \n",
      " 2D)                                                             \n",
      "                                                                 \n",
      " dropout_2 (Dropout)         (None, 4, 4, 128)         0         \n",
      "                                                                 \n",
      " flatten (Flatten)           (None, 2048)              0         \n",
      "                                                                 \n",
      " masked_dense (Dense)        (None, 512)               1049088   \n",
      "                                                                 \n",
      " masked_dense_1 (Dense)      (None, 512)               262656    \n",
      "                                                                 \n",
      " masked_dense_2 (Dense)      (None, 512)               262656    \n",
      "                                                                 \n",
      " masked_dense_3 (Dense)      (None, 10)                5130      \n",
      "                                                                 \n",
      "=================================================================\n",
      "Total params: 1,866,538\n",
      "Trainable params: 0\n",
      "Non-trainable params: 1,866,538\n",
      "_________________________________________________________________\n"
     ]
    }
   ],
   "source": [
    "# Sparsify the model initially, then train and apply further sparsification\n",
    "model = mann.utils.mask_model(\n",
    "    model,\n",
    "    40,\n",
    "    x = x_train[:500],\n",
    "    y = y_train[:500]\n",
    ")\n",
    "model.compile(\n",
    "    loss = 'sparse_categorical_crossentropy',\n",
    "    optimizer = 'adam',\n",
    "    metrics = ['accuracy']\n",
    ")\n",
    "\n",
    "callback = mann.utils.ActiveSparsification(\n",
    "    0.65,\n",
    "    starting_sparsification = 40,\n",
    "    max_sparsification = 80,\n",
    "    sparsification_rate = 5\n",
    ")\n",
    "\n",
    "model.fit(\n",
    "    x_train,\n",
    "    y_train,\n",
    "    batch_size = 512,\n",
    "    epochs = 100,\n",
    "    callbacks = [callback],\n",
    "    validation_split = 0.2\n",
    ")\n",
    "\n",
    "# Remove the training masks from the model\n",
    "model = mann.utils.remove_layer_masks(model)\n",
    "model.summary()"
   ]
  },
  {
   "cell_type": "markdown",
   "metadata": {},
   "source": [
    "## Check the accuracy of the model on test data and configure the model for deployment"
   ]
  },
  {
   "cell_type": "code",
   "execution_count": 5,
   "metadata": {},
   "outputs": [
    {
     "name": "stdout",
     "output_type": "stream",
     "text": [
      "Accuracy: 0.7332\n"
     ]
    }
   ],
   "source": [
    "# Check the accuracy on test data\n",
    "preds = model.predict(x_test).argmax(axis = 1).flatten()\n",
    "print(f'Accuracy: {(preds == y_test.flatten()).sum()/y_test.shape[0]}')\n",
    "\n",
    "# Save the model\n",
    "model.save('cifar10.h5')"
   ]
  },
  {
   "cell_type": "code",
   "execution_count": 6,
   "metadata": {},
   "outputs": [],
   "source": [
    "# Configure the model for integration via the browser\n",
    "\n",
    "# Harvester\n",
    "harvester = aisquared.config.harvesting.ImageHarvester()\n",
    "\n",
    "# Preprocessing steps\n",
    "resize_step = aisquared.config.preprocessing.Resize([32, 32])\n",
    "divide_step = aisquared.config.preprocessing.DivideValue(255)\n",
    "\n",
    "preprocesser = aisquared.config.preprocessing.ImagePreprocessor(\n",
    "    [\n",
    "        resize_step,\n",
    "        divide_step\n",
    "    ]\n",
    ")\n",
    "\n",
    "# Analytic Step - point to the saved model\n",
    "analytic = aisquared.config.analytic.LocalModel('cifar10.h5', 'cv')\n",
    "\n",
    "# Postprocessing Step\n",
    "postprocesser = aisquared.config.postprocessing.MulticlassClassification(label_map)\n",
    "\n",
    "# Rendering\n",
    "renderer = aisquared.config.rendering.ImageRendering(\n",
    "    thickness = '5',\n",
    "    font_size = '20',\n",
    "    include_probability = True\n",
    ")\n",
    "\n",
    "# Feedback\n",
    "feedback = aisquared.config.feedback.MulticlassFeedback(label_map)\n",
    "\n",
    "# Put all of the steps together into a configuration object\n",
    "config = aisquared.config.ModelConfiguration(\n",
    "    name = 'CIFAR10Classifier',\n",
    "    harvesting_steps = harvester,\n",
    "    preprocessing_steps = preprocesser,\n",
    "    analytic = analytic,\n",
    "    postprocessing_steps = postprocesser,\n",
    "    rendering_steps = renderer\n",
    ")"
   ]
  },
  {
   "cell_type": "code",
   "execution_count": 7,
   "metadata": {},
   "outputs": [],
   "source": [
    "# Compile the entirety of the configuration and the model into a .air file\n",
    "config.compile(dtype = 'float16')"
   ]
  }
 ],
 "metadata": {
  "interpreter": {
   "hash": "0671325c08d22fc44ce2e58aedbf8efae69ce5eb9c1911bbe321ecb24080d883"
  },
  "kernelspec": {
   "display_name": "Python 3.9.10 ('base')",
   "language": "python",
   "name": "python3"
  },
  "language_info": {
   "codemirror_mode": {
    "name": "ipython",
    "version": 3
   },
   "file_extension": ".py",
   "mimetype": "text/x-python",
   "name": "python",
   "nbconvert_exporter": "python",
   "pygments_lexer": "ipython3",
   "version": "3.9.12"
  },
  "orig_nbformat": 4
 },
 "nbformat": 4,
 "nbformat_minor": 2
}
