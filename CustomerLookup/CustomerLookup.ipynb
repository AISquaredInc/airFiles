{
 "cells": [
  {
   "cell_type": "markdown",
   "id": "d0db9ab4",
   "metadata": {},
   "source": [
    "# Customer Lookup Analytic\n",
    "\n",
    "In this notebook, we will go through the steps needed to build the `.air` file which configures using the cusotomer lookup remote analytic."
   ]
  },
  {
   "cell_type": "markdown",
   "id": "269f7c67",
   "metadata": {},
   "source": [
    "## Package Installation and Import\n",
    "\n",
    "First, we import the `aisquared` package"
   ]
  },
  {
   "cell_type": "code",
   "execution_count": 2,
   "id": "3ca58437",
   "metadata": {},
   "outputs": [],
   "source": [
    "# import\n",
    "import aisquared"
   ]
  },
  {
   "cell_type": "markdown",
   "id": "0c6c91b4",
   "metadata": {},
   "source": [
    "## Configure the steps required\n",
    "\n",
    "The workflow of using the `aisquared` package involves the creation of steps, in the following order:\n",
    "\n",
    "- harvesting\n",
    "- preprocessing\n",
    "- analytic/model\n",
    "- postprocessing\n",
    "- rendering\n",
    "- feedback_steps"
   ]
  },
  {
   "cell_type": "code",
   "execution_count": 3,
   "id": "a2f1f416",
   "metadata": {},
   "outputs": [],
   "source": [
    "# Because this specific analytic requires \n",
    "harvester = aisquared.config.harvesting.TextHarvester(\n",
    "    how = 'regex',   # how to harvest the text\n",
    "    regex = 'C\\d{5}' # regex to harvest using\n",
    ")\n",
    "\n",
    "# There are also no preprocessing steps for this analytic\n",
    "preprocesser = None\n",
    "\n",
    "# For the analytic step, we need the DeployedAnalytic class\n",
    "analytic = aisquared.config.analytic.DeployedAnalytic(\n",
    "    url = \"https://ifswlpc5q9.execute-api.us-east-2.amazonaws.com/test/returncustomeridresource?customer=\",\n",
    "    input_type = 'text',\n",
    "    secret = '',\n",
    "    header = None\n",
    ")\n",
    "\n",
    "# No posptprocessing is required\n",
    "postprocesser = None\n",
    "\n",
    "# The WordRendering class is used for rendering\n",
    "renderer = aisquared.config.rendering.WordRendering(\n",
    "    word_list = 'input',   # how to retrieve the words to use\n",
    "    result_key = None,     # how to retrieve results\n",
    "    content_key = 'nba',   # how to retrieve the contents\n",
    "    badge_shape = 'star',  # badge shape to use\n",
    "    badge_color = 'blue'   # badge color to use\n",
    ")\n",
    "\n",
    "# The SimpleFeedback class is used for rendering prediction correction feedback\n",
    "model_feedback = aisquared.config.feedback.ModelFeedback()\n",
    "model_feedback.add_question('Does this model help you in your workflow?', 'singleChoice', ['yes', 'no'])\n",
    "feedback = aisquared.config.feedback.SimpleFeedback()"
   ]
  },
  {
   "cell_type": "markdown",
   "id": "9f7515d3",
   "metadata": {},
   "source": [
    "## Compile all Steps as a ModelConfiguration Object\n",
    "\n",
    "After the steps have been initiated, the entire `ModelConfiguration` object can be constructed and the `.compile()` method run to create the `.air` file."
   ]
  },
  {
   "cell_type": "code",
   "execution_count": 4,
   "id": "8d3be4aa",
   "metadata": {},
   "outputs": [],
   "source": [
    "# Initialize the ModelConfiguration object\n",
    "config = aisquared.config.ModelConfiguration(\n",
    "    name = 'CustomerLookup',                     # the name of the model\n",
    "    harvesting_steps = harvester,                # the harvester\n",
    "    preprocessing_steps = preprocesser,          # the preprocesser\n",
    "    analytic = analytic,                         # the analytic\n",
    "    postprocessing_steps = postprocesser,        # the postprocessing steps\n",
    "    rendering_steps = renderer,                  # the rendering steps\n",
    "    feedback_steps = [model_feedback, feedback]  # prediction feedback\n",
    ")\n",
    "\n",
    "# Run the .compile() methods to create the .air file\n",
    "config.compile()"
   ]
  },
  {
   "cell_type": "markdown",
   "id": "d1346aa5",
   "metadata": {},
   "source": [
    "## Upload the model to remote storage\n",
    "\n",
    "After the model has been compiled and the `.air` file created, we can use the `AWSClient` object to upload the model to remote storage."
   ]
  },
  {
   "cell_type": "code",
   "execution_count": 5,
   "id": "43125f5c",
   "metadata": {},
   "outputs": [],
   "source": [
    "# Create the AWSClient object\n",
    "client = aisquared.remote.AWSClient()\n",
    "client.upload_model('CustomerLookup.air', overwrite = True)"
   ]
  }
 ],
 "metadata": {
  "interpreter": {
   "hash": "0671325c08d22fc44ce2e58aedbf8efae69ce5eb9c1911bbe321ecb24080d883"
  },
  "kernelspec": {
   "display_name": "Python 3.9.7 64-bit ('base': conda)",
   "language": "python",
   "name": "python3"
  },
  "language_info": {
   "codemirror_mode": {
    "name": "ipython",
    "version": 3
   },
   "file_extension": ".py",
   "mimetype": "text/x-python",
   "name": "python",
   "nbconvert_exporter": "python",
   "pygments_lexer": "ipython3",
   "version": "3.9.12"
  }
 },
 "nbformat": 4,
 "nbformat_minor": 5
}
