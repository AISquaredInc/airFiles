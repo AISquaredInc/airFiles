{
 "cells": [
  {
   "cell_type": "markdown",
   "id": "a41d6e9b",
   "metadata": {},
   "source": [
    "# Topic Retrieval Analytic\n",
    "\n",
    "In this notebook, we will go through the steps needed to build the `.air` file which configures using the topic retrieval remote analytic."
   ]
  },
  {
   "cell_type": "markdown",
   "id": "8aaa9af4",
   "metadata": {},
   "source": [
    "## Package Installation and Import\n",
    "\n",
    "First, we import the `aisquared` package."
   ]
  },
  {
   "cell_type": "code",
   "execution_count": 1,
   "id": "df2a7edd",
   "metadata": {},
   "outputs": [
    {
     "name": "stderr",
     "output_type": "stream",
     "text": [
      "/Users/jwrenn4/miniforge3/lib/python3.9/site-packages/jax/_src/lib/__init__.py:33: UserWarning: JAX on Mac ARM machines is experimental and minimally tested. Please see https://github.com/google/jax/issues/5501 in the event of problems.\n",
      "  warnings.warn(\"JAX on Mac ARM machines is experimental and minimally tested. \"\n"
     ]
    }
   ],
   "source": [
    "# import\n",
    "import aisquared"
   ]
  },
  {
   "cell_type": "markdown",
   "id": "44bc614b",
   "metadata": {},
   "source": [
    "## Configure the steps required\n",
    "\n",
    "The workflow of using the `aisquared` package involves the creation of steps, in the following order:\n",
    "\n",
    "- harvesting\n",
    "- preprocessing\n",
    "- analytic/model\n",
    "- postprocessing\n",
    "- rendering\n",
    "- model_feedback\n",
    "- feedback_steps"
   ]
  },
  {
   "cell_type": "code",
   "execution_count": 2,
   "id": "e49aead3",
   "metadata": {},
   "outputs": [],
   "source": [
    "# Because this specific analytic doesn't require any inputs, the harvesting steps can be empty\n",
    "harvester = []\n",
    "\n",
    "# There are also no preprocessing steps for this analytic\n",
    "preprocesser = None\n",
    "\n",
    "# For the analytic step, we need the DeployedAnalytic class\n",
    "analytic = aisquared.config.analytic.DeployedAnalytic(\n",
    "    url = \"https://e8qgxh1zp0.execute-api.us-east-2.amazonaws.com/test/returntrendingtopicsresource\",\n",
    "    input_type = 'text',\n",
    "    secret = 'request',\n",
    "    header = None\n",
    ")\n",
    "\n",
    "# No posptprocessing is required\n",
    "postprocesser = None\n",
    "\n",
    "# The DocumentRendering class is used for rendering\n",
    "renderer = aisquared.config.rendering.DocumentRendering(\n",
    "    prediction_key = 'topic',    # the key to primarily render\n",
    "    words = 'keywords',          # the key to use to retrieve document keywords\n",
    "    documents = 'docs',          # the key to use to retrieve key documents per topic\n",
    "    include_probability = False  # whether to include probability scores\n",
    ")\n",
    "\n",
    "# SimpleFeedback used to get prediction feedback\n",
    "model_feedback = aisquared.config.feedback.ModelFeedback()\n",
    "model_feedback.add_question('Are any of the topics incorrect?', 'multiChoice', ['High growth', 'International stocks', 'Treasury bonds', 'Midcap stocks'])\n",
    "model_feedback.add_question('Do you have any additional feedback about this model?', 'text')\n",
    "feedback = aisquared.config.feedback.SimpleFeedback()"
   ]
  },
  {
   "cell_type": "markdown",
   "id": "690f221c",
   "metadata": {},
   "source": [
    "## Compile all Steps as a ModelConfiguration Object\n",
    "\n",
    "After the steps have been initiated, the entire `ModelConfiguration` object can be constructed and the `.compile()` method run to create the `.air` file."
   ]
  },
  {
   "cell_type": "code",
   "execution_count": 3,
   "id": "66009c7c",
   "metadata": {},
   "outputs": [],
   "source": [
    "# Initialize the ModelConfiguration object\n",
    "config = aisquared.config.ModelConfiguration(\n",
    "    name = 'TopicRetriever',                      # the name of the model\n",
    "    harvesting_steps = [harvester],               # the harvester\n",
    "    preprocessing_steps = preprocesser,           # the preprocesser\n",
    "    analytic = analytic,                          # the analytic\n",
    "    postprocessing_steps = postprocesser,         # the postprocessing steps\n",
    "    rendering_steps = renderer,                   # the rendering steps\n",
    "    feedback_steps = [model_feedback, feedback]   # the prediction feedback\n",
    ")\n",
    "\n",
    "# Run the .compile() methods to create the .air file\n",
    "config.compile()"
   ]
  }
 ],
 "metadata": {
  "interpreter": {
   "hash": "0671325c08d22fc44ce2e58aedbf8efae69ce5eb9c1911bbe321ecb24080d883"
  },
  "kernelspec": {
   "display_name": "Python 3.9.7 64-bit ('base': conda)",
   "language": "python",
   "name": "python3"
  },
  "language_info": {
   "codemirror_mode": {
    "name": "ipython",
    "version": 3
   },
   "file_extension": ".py",
   "mimetype": "text/x-python",
   "name": "python",
   "nbconvert_exporter": "python",
   "pygments_lexer": "ipython3",
   "version": "3.9.12"
  }
 },
 "nbformat": 4,
 "nbformat_minor": 5
}
